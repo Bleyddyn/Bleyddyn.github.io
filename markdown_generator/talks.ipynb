{
 "cells": [
  {
   "cell_type": "markdown",
   "metadata": {},
   "source": [
    "# Talks markdown generator\n",
    "Takes a TSV of talks with metadata and converts them for use with academicpages.github.io.\n",
    "\n",
    "TODO: Make this work with BibTex or other databases of talks, rather than Stuart's TSV format.\n"
   ]
  },
  {
   "cell_type": "code",
   "execution_count": null,
   "metadata": {},
   "outputs": [],
   "source": [
    "!pip install getorg --upgrade\n",
    "import pandas as pd\n",
    "import os"
   ]
  },
  {
   "cell_type": "code",
   "execution_count": null,
   "metadata": {},
   "outputs": [],
   "source": [
    "talks = pd.read_csv(\"talks.tsv\", sep=\"\\t\", header=0)\n",
    "talks"
   ]
  },
  {
   "cell_type": "code",
   "execution_count": null,
   "metadata": {},
   "outputs": [],
   "source": [
    "html_escape_table = {\n",
    "    \"&\": \"&amp;\",\n",
    "    '\"': \"&quot;\",\n",
    "    \"'\": \"&apos;\",\n",
    "    \">\": \"&gt;\",\n",
    "    \"<\": \"&lt;\",\n",
    "    }\n",
    "\n",
    "def html_escape(text):\n",
    "    if type(text) is str:\n",
    "        return \"\".join(html_escape_table.get(c,c) for c in text)\n",
    "    else:\n",
    "        return \"False\""
   ]
  },
  {
   "cell_type": "code",
   "execution_count": null,
   "metadata": {},
   "outputs": [],
   "source": [
    "!mkdir _talks"
   ]
  },
  {
   "cell_type": "code",
   "execution_count": null,
   "metadata": {},
   "outputs": [],
   "source": [
    "loc_dict = {}\n",
    "count = 0\n",
    "base_url = \"staeiou.github.io\"\n",
    "\n",
    "for row, item in talks.iterrows():\n",
    "    md_filename = str(item.date) + \"-\" + item.slug + \".md\"\n",
    "    html_filename = str(item.date) + \"-\" + item.slug \n",
    "    year = item.date[:4]\n",
    "    count += 1\n",
    "    \n",
    "    \n",
    "    md = \"---\\ntitle: \\\"\"   + item.title + '\"\\n'\n",
    "    md += \"collection: talks\" + \"\\n\"\n",
    "    if item.talk_type is not None:\n",
    "        md += 'type: \"' + item.talk_type + '\"\\n'\n",
    "    \n",
    "    md += \"permalink: /talks/\" + html_filename + \"\\n\"\n",
    "    \n",
    "    if item.venue is not None:\n",
    "        md += 'venue: \"' + item.venue + '\"\\n'\n",
    "        \n",
    "    if item.date is not None:\n",
    "        md += \"date: \" + str(item.date) + \"\\n\"\n",
    "    \n",
    "    if item.geoloc is not None:\n",
    "        md += 'location: \"' + str(item.geoloc) + '\"\\n'\n",
    "       \n",
    "    \n",
    "    if len(str(item.summary))>10:\n",
    "        md += 'excerpt: \"'\n",
    "        md += html_escape(item.summary) + '\"\\n'\n",
    "    elif len(str(item.description))>10:\n",
    "        if len(str(item.description))>200:\n",
    "            md += 'excerpt: \"'\n",
    "            md += html_escape(item.description[:200])\n",
    "            md += '...\"\\n'\n",
    "        else:\n",
    "            md += 'excerpt: \"'\n",
    "            md += html_escape(item.description) + '\"\\n'\n",
    "    \n",
    "    md += \"---\\n\"\n",
    "    \n",
    "    if isinstance(item.url, str):\n",
    "        md += \"\\n<a href='\" + str(item.url) + \"'>Link to more information</a>\\n\" \n",
    "    \n",
    "    if len(str(item.description))>10:\n",
    "        md += \"\\n\" + html_escape(item.description) + \"\\n\"\n",
    "    md_filename = os.path.basename(md_filename)\n",
    "    print(md)\n",
    "    \n",
    "    with open(\"_talks/\" + md_filename, 'w') as f:\n",
    "        f.write(md)"
   ]
  },
  {
   "cell_type": "code",
   "execution_count": null,
   "metadata": {},
   "outputs": [],
   "source": [
    "!ls _talks"
   ]
  },
  {
   "cell_type": "code",
   "execution_count": null,
   "metadata": {},
   "outputs": [],
   "source": [
    "!head _talks/2008-03-01-tamu-communicative-ethnography.md"
   ]
  },
  {
   "cell_type": "code",
   "execution_count": null,
   "metadata": {},
   "outputs": [],
   "source": []
  }
 ],
 "metadata": {
  "kernelspec": {
   "display_name": "Python 3",
   "language": "python",
   "name": "python3"
  },
  "language_info": {
   "codemirror_mode": {
    "name": "ipython",
    "version": 3
   },
   "file_extension": ".py",
   "mimetype": "text/x-python",
   "name": "python",
   "nbconvert_exporter": "python",
   "pygments_lexer": "ipython3",
   "version": "3.4.2"
  }
 },
 "nbformat": 4,
 "nbformat_minor": 0
}
